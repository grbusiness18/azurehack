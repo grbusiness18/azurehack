{
 "cells": [
  {
   "cell_type": "code",
   "execution_count": 5,
   "metadata": {},
   "outputs": [],
   "source": [
    "from azure.cognitiveservices.vision.computervision import ComputerVisionClient\n",
    "from azure.cognitiveservices.vision.computervision.models import TextOperationStatusCodes\n",
    "from azure.cognitiveservices.vision.computervision.models import TextRecognitionMode\n",
    "from azure.cognitiveservices.vision.computervision.models import VisualFeatureTypes\n",
    "from msrest.authentication import CognitiveServicesCredentials\n",
    "\n",
    "from array import array\n",
    "import os\n",
    "from PIL import Image\n",
    "import sys\n",
    "import time\n"
   ]
  },
  {
   "cell_type": "code",
   "execution_count": 13,
   "metadata": {},
   "outputs": [],
   "source": [
    "\n",
    "class VisionProcessor(object):\n",
    "\n",
    "    def __init__(self):\n",
    "        self.key = '3a87d7164ee54d478eef0fae83947846'\n",
    "        self.endpoint = 'https://cv-dev-hackathon.cognitiveservices.azure.com/'\n",
    "\n",
    "    def process(self):\n",
    "        self.computervision_client = ComputerVisionClient(self.endpoint, CognitiveServicesCredentials(self.key))\n",
    "        '''\n",
    "        Batch Read File, recognize printed text - remote\n",
    "        This example will extract printed text in an image, then print results, line by line.\n",
    "        This API call can also recognize handwriting (not shown).\n",
    "        '''\n",
    "        print(\"===== Batch Read File - remote =====\")\n",
    "        # Get an image with printed text\n",
    "        # https://www.labelversand.de/WebRoot/Store25/Shops/79400688/56A9/E16A/A765/3AA7/7C07/C0A8/2AB8/F1B9/SCH-627_ausgang_ml.png\n",
    "        remote_image_printed_text_url = \"https://www.labelversand.de/WebRoot/Store25/Shops/79400688/56A9/E16A/A765/3AA7/7C07/C0A8/2AB8/F1B9/SCH-627_ausgang_ml.png\"\n",
    "\n",
    "        # Call API with URL and raw response (allows you to get the operation location)\n",
    "        recognize_printed_results = self.computervision_client.batch_read_file(remote_image_printed_text_url, raw=True)\n",
    "\n",
    "        # Get the operation location (URL with an ID at the end) from the response\n",
    "        operation_location_remote = recognize_printed_results.headers[\"Operation-Location\"]\n",
    "        # Grab the ID from the URL\n",
    "        operation_id = operation_location_remote.split(\"/\")[-1]\n",
    "\n",
    "        # Call the \"GET\" API and wait for it to retrieve the results\n",
    "        while True:\n",
    "            get_printed_text_results = self.computervision_client.get_read_operation_result(operation_id)\n",
    "            if get_printed_text_results.status not in ['NotStarted', 'Running']:\n",
    "                break\n",
    "            time.sleep(1)\n",
    "\n",
    "        # Print the detected text, line by line\n",
    "        if get_printed_text_results.status == TextOperationStatusCodes.succeeded:\n",
    "            for text_result in get_printed_text_results.recognition_results:\n",
    "                for line in text_result.lines:\n",
    "                    print(line.text)\n",
    "                    print(line.bounding_box)"
   ]
  },
  {
   "cell_type": "code",
   "execution_count": 14,
   "metadata": {},
   "outputs": [
    {
     "name": "stdout",
     "output_type": "stream",
     "text": [
      "===== Batch Read File - remote =====\n",
      "AUSGANG\n",
      "[100.0, 260.0, 899.0, 263.0, 898.0, 416.0, 99.0, 413.0]\n"
     ]
    }
   ],
   "source": [
    "vp = VisionProcessor().process()"
   ]
  },
  {
   "cell_type": "code",
   "execution_count": 8,
   "metadata": {},
   "outputs": [
    {
     "ename": "AttributeError",
     "evalue": "'NoneType' object has no attribute 'computervision_client'",
     "output_type": "error",
     "traceback": [
      "\u001b[0;31m---------------------------------------------------------------------------\u001b[0m",
      "\u001b[0;31mAttributeError\u001b[0m                            Traceback (most recent call last)",
      "\u001b[0;32m<ipython-input-8-d556f1d05678>\u001b[0m in \u001b[0;36m<module>\u001b[0;34m\u001b[0m\n\u001b[0;32m----> 1\u001b[0;31m \u001b[0mdir\u001b[0m\u001b[0;34m(\u001b[0m\u001b[0mvp\u001b[0m\u001b[0;34m.\u001b[0m\u001b[0mcomputervision_client\u001b[0m\u001b[0;34m.\u001b[0m\u001b[0mbatch_read_file\u001b[0m\u001b[0;34m(\u001b[0m\u001b[0;34m)\u001b[0m\u001b[0;34m)\u001b[0m\u001b[0;34m\u001b[0m\u001b[0m\n\u001b[0m",
      "\u001b[0;31mAttributeError\u001b[0m: 'NoneType' object has no attribute 'computervision_client'"
     ]
    }
   ],
   "source": [
    "dir(vp.computervision_client.batch_read_file())"
   ]
  }
 ],
 "metadata": {
  "kernelspec": {
   "display_name": "Python 3",
   "language": "python",
   "name": "python3"
  },
  "language_info": {
   "codemirror_mode": {
    "name": "ipython",
    "version": 3
   },
   "file_extension": ".py",
   "mimetype": "text/x-python",
   "name": "python",
   "nbconvert_exporter": "python",
   "pygments_lexer": "ipython3",
   "version": "3.6.0"
  }
 },
 "nbformat": 4,
 "nbformat_minor": 4
}
